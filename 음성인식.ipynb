{
 "cells": [
  {
   "cell_type": "code",
   "execution_count": 1,
   "metadata": {},
   "outputs": [
    {
     "ename": "SyntaxError",
     "evalue": "invalid syntax (2181548464.py, line 2)",
     "output_type": "error",
     "traceback": [
      "\u001b[1;36m  Cell \u001b[1;32mIn[1], line 2\u001b[1;36m\u001b[0m\n\u001b[1;33m    pip install pyaudio\u001b[0m\n\u001b[1;37m        ^\u001b[0m\n\u001b[1;31mSyntaxError\u001b[0m\u001b[1;31m:\u001b[0m invalid syntax\n"
     ]
    }
   ],
   "source": [
    "#pip install speechrecognition\n"
   ]
  },
  {
   "cell_type": "code",
   "execution_count": 5,
   "metadata": {},
   "outputs": [
    {
     "name": "stdout",
     "output_type": "stream",
     "text": [
      "Collecting pyaudioNote: you may need to restart the kernel to use updated packages.\n"
     ]
    },
    {
     "name": "stderr",
     "output_type": "stream",
     "text": [
      "\n",
      "[notice] A new release of pip is available: 23.1.2 -> 23.2.1\n",
      "[notice] To update, run: python.exe -m pip install --upgrade pip\n"
     ]
    },
    {
     "name": "stdout",
     "output_type": "stream",
     "text": [
      "\n",
      "  Downloading PyAudio-0.2.13-cp311-cp311-win_amd64.whl (164 kB)\n",
      "                                              0.0/164.1 kB ? eta -:--:--\n",
      "     -------------------------------------- 164.1/164.1 kB 9.6 MB/s eta 0:00:00\n",
      "Installing collected packages: pyaudio\n",
      "Successfully installed pyaudio-0.2.13\n"
     ]
    }
   ],
   "source": [
    "#pip install pyaudio"
   ]
  },
  {
   "cell_type": "code",
   "execution_count": 2,
   "metadata": {},
   "outputs": [
    {
     "name": "stdout",
     "output_type": "stream",
     "text": [
      "3.10.0\n"
     ]
    }
   ],
   "source": [
    "import speech_recognition as sr\n",
    "\n",
    "print(sr.__version__)"
   ]
  },
  {
   "cell_type": "code",
   "execution_count": 3,
   "metadata": {},
   "outputs": [],
   "source": [
    "recognizer = sr.Recognizer()"
   ]
  },
  {
   "cell_type": "code",
   "execution_count": 6,
   "metadata": {},
   "outputs": [
    {
     "name": "stdout",
     "output_type": "stream",
     "text": [
      "['Microsoft Sound Mapper - Input', '마이크(2- USB PnP Audio Device)', 'Microsoft Sound Mapper - Output', '스피커(2- USB PnP Audio Device)', 'Speaker(2- Realtek(R) Audio)', '주 사운드 캡처 드라이버', '마이크(2- USB PnP Audio Device)', '주 사운드 드라이버', '스피커(2- USB PnP Audio Device)', 'Speaker(2- Realtek(R) Audio)', '스피커(2- USB PnP Audio Device)', 'Speaker(2- Realtek(R) Audio)', '마이크(2- USB PnP Audio Device)', 'Speakers 1 (Realtek HD Audio output with HAP)', 'Speakers 2 (Realtek HD Audio output with HAP)', 'PC 스피커 (Realtek HD Audio output with HAP)', '마이크 배열 (Realtek HD Audio Mic input)', '스테레오 믹스 (Realtek HD Audio Stereo input)', 'Headphones (Realtek HD Audio 2nd output)', 'Mic in at front panel (black) (Mic in at front panel (black))', '스피커 (USB PnP Audio Device)', '마이크 (USB PnP Audio Device)']\n"
     ]
    }
   ],
   "source": [
    "import speech_recognition as sr\n",
    "\n",
    "names = sr.Microphone.list_microphone_names()\n",
    "print(names)"
   ]
  },
  {
   "cell_type": "code",
   "execution_count": 7,
   "metadata": {},
   "outputs": [
    {
     "name": "stdout",
     "output_type": "stream",
     "text": [
      "아이스 아메리카노 주세요\n"
     ]
    }
   ],
   "source": [
    "import speech_recognition as sr\n",
    "\n",
    "r = sr.Recognizer()\n",
    "\n",
    "mic = sr.Microphone(device_index = 1)\n",
    "with mic as source:\n",
    "    audio = r.listen(source, timeout = 5, phrase_time_limit = 5)\n",
    "\n",
    "result = r.recognize_google(audio, language = \"ko-KR\")\n",
    "print(result)"
   ]
  }
 ],
 "metadata": {
  "kernelspec": {
   "display_name": "Python 3",
   "language": "python",
   "name": "python3"
  },
  "language_info": {
   "codemirror_mode": {
    "name": "ipython",
    "version": 3
   },
   "file_extension": ".py",
   "mimetype": "text/x-python",
   "name": "python",
   "nbconvert_exporter": "python",
   "pygments_lexer": "ipython3",
   "version": "3.11.4"
  },
  "orig_nbformat": 4
 },
 "nbformat": 4,
 "nbformat_minor": 2
}
